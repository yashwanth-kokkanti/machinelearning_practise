{
  "nbformat": 4,
  "nbformat_minor": 0,
  "metadata": {
    "colab": {
      "name": "sklearnMetrics.ipynb",
      "provenance": [],
      "collapsed_sections": [],
      "authorship_tag": "ABX9TyN3rPU8fRST3xSwe3V0n6Qu",
      "include_colab_link": true
    },
    "kernelspec": {
      "name": "python3",
      "display_name": "Python 3"
    }
  },
  "cells": [
    {
      "cell_type": "markdown",
      "metadata": {
        "id": "view-in-github",
        "colab_type": "text"
      },
      "source": [
        "<a href=\"https://colab.research.google.com/github/yashwanth-kokkanti/machinelearning_practise/blob/master/sklearnMetrics.ipynb\" target=\"_parent\"><img src=\"https://colab.research.google.com/assets/colab-badge.svg\" alt=\"Open In Colab\"/></a>"
      ]
    },
    {
      "cell_type": "code",
      "metadata": {
        "colab": {
          "base_uri": "https://localhost:8080/"
        },
        "id": "yZ5X-vTbvs0S",
        "outputId": "d2954f92-ae07-49b2-e6ae-05364dde85c1"
      },
      "source": [
        "from sklearn.metrics import accuracy_score \r\n",
        "\r\n",
        "y_pred = [1, 2, 3, 4, 5, 6]\r\n",
        "y_true = [1, 3, 2, 4, 5, 6]\r\n",
        "\r\n",
        "accuracy_score(y_true, y_pred)"
      ],
      "execution_count": null,
      "outputs": [
        {
          "output_type": "execute_result",
          "data": {
            "text/plain": [
              "0.6666666666666666"
            ]
          },
          "metadata": {
            "tags": []
          },
          "execution_count": 2
        }
      ]
    },
    {
      "cell_type": "code",
      "metadata": {
        "colab": {
          "base_uri": "https://localhost:8080/"
        },
        "id": "e8JXQFVrv8KQ",
        "outputId": "9c4f7c58-5a4d-4892-f3a5-12bfb3ea4189"
      },
      "source": [
        "from sklearn.metrics import confusion_matrix \r\n",
        "\r\n",
        "y_true = [2, 0, 2, 2, 0, 1]\r\n",
        "y_pred = [0, 0, 2, 2, 0, 2]\r\n",
        "\r\n",
        "confusion_matrix(y_true, y_pred)"
      ],
      "execution_count": null,
      "outputs": [
        {
          "output_type": "execute_result",
          "data": {
            "text/plain": [
              "array([[2, 0, 0],\n",
              "       [0, 0, 1],\n",
              "       [1, 0, 2]])"
            ]
          },
          "metadata": {
            "tags": []
          },
          "execution_count": 3
        }
      ]
    },
    {
      "cell_type": "code",
      "metadata": {
        "colab": {
          "base_uri": "https://localhost:8080/"
        },
        "id": "TPbZQRp_wlat",
        "outputId": "072d8c74-1179-4e65-870e-e20b7137e2b2"
      },
      "source": [
        "confusion_matrix(y_true, y_pred).ravel()"
      ],
      "execution_count": null,
      "outputs": [
        {
          "output_type": "execute_result",
          "data": {
            "text/plain": [
              "array([2, 0, 0, 0, 0, 1, 1, 0, 2])"
            ]
          },
          "metadata": {
            "tags": []
          },
          "execution_count": 6
        }
      ]
    },
    {
      "cell_type": "code",
      "metadata": {
        "colab": {
          "base_uri": "https://localhost:8080/"
        },
        "id": "n0FAbksbwuFg",
        "outputId": "fcca3d13-c562-49d0-9bef-3e705bdc9bc2"
      },
      "source": [
        "from sklearn.metrics import recall_score\r\n",
        "\r\n",
        "y_true = [0, 1, 2, 0, 1, 2]\r\n",
        "y_pred = [0, 2, 1, 0, 0, 1]\r\n",
        "\r\n",
        "recall_score(y_true, y_pred, average='macro')"
      ],
      "execution_count": null,
      "outputs": [
        {
          "output_type": "execute_result",
          "data": {
            "text/plain": [
              "0.3333333333333333"
            ]
          },
          "metadata": {
            "tags": []
          },
          "execution_count": 8
        }
      ]
    },
    {
      "cell_type": "code",
      "metadata": {
        "colab": {
          "base_uri": "https://localhost:8080/"
        },
        "id": "sndwu78bygue",
        "outputId": "9a8a1962-b578-4591-b759-0174eec03646"
      },
      "source": [
        "recall_score(y_true, y_pred, average=None)"
      ],
      "execution_count": null,
      "outputs": [
        {
          "output_type": "execute_result",
          "data": {
            "text/plain": [
              "array([1., 0., 0.])"
            ]
          },
          "metadata": {
            "tags": []
          },
          "execution_count": 9
        }
      ]
    },
    {
      "cell_type": "code",
      "metadata": {
        "colab": {
          "base_uri": "https://localhost:8080/"
        },
        "id": "3AvwZ70-yoSi",
        "outputId": "6dc7353d-b944-4a5f-cc4c-162532aceffc"
      },
      "source": [
        "recall_score(y_true, y_pred, average='micro')"
      ],
      "execution_count": null,
      "outputs": [
        {
          "output_type": "execute_result",
          "data": {
            "text/plain": [
              "0.3333333333333333"
            ]
          },
          "metadata": {
            "tags": []
          },
          "execution_count": 10
        }
      ]
    },
    {
      "cell_type": "code",
      "metadata": {
        "id": "FVNhy1bryrBo"
      },
      "source": [
        "import sklearn"
      ],
      "execution_count": null,
      "outputs": []
    },
    {
      "cell_type": "code",
      "metadata": {
        "colab": {
          "base_uri": "https://localhost:8080/"
        },
        "id": "b4OVV0B8yyun",
        "outputId": "1dd25698-967d-4576-caf9-b33ecb56a46f"
      },
      "source": [
        "from sklearn.metrics import precision_score\r\n",
        "\r\n",
        "precision_score(y_true, y_pred, average='micro')"
      ],
      "execution_count": null,
      "outputs": [
        {
          "output_type": "execute_result",
          "data": {
            "text/plain": [
              "0.3333333333333333"
            ]
          },
          "metadata": {
            "tags": []
          },
          "execution_count": 14
        }
      ]
    },
    {
      "cell_type": "code",
      "metadata": {
        "colab": {
          "base_uri": "https://localhost:8080/"
        },
        "id": "BMrSuS-NzDMB",
        "outputId": "8f992c2b-4e4a-488c-c033-ad87fa2fb7d0"
      },
      "source": [
        "precision_score(y_true, y_pred, average='macro')"
      ],
      "execution_count": null,
      "outputs": [
        {
          "output_type": "execute_result",
          "data": {
            "text/plain": [
              "0.2222222222222222"
            ]
          },
          "metadata": {
            "tags": []
          },
          "execution_count": 15
        }
      ]
    },
    {
      "cell_type": "code",
      "metadata": {
        "colab": {
          "base_uri": "https://localhost:8080/"
        },
        "id": "9meoS_rAzTlX",
        "outputId": "fdbd47ca-d001-482d-f3a8-fa24b6b3cd53"
      },
      "source": [
        "from sklearn.metrics import f1_score\r\n",
        "\r\n",
        "f1_score(y_true, y_pred, average='micro')"
      ],
      "execution_count": null,
      "outputs": [
        {
          "output_type": "execute_result",
          "data": {
            "text/plain": [
              "0.3333333333333333"
            ]
          },
          "metadata": {
            "tags": []
          },
          "execution_count": 18
        }
      ]
    },
    {
      "cell_type": "code",
      "metadata": {
        "colab": {
          "base_uri": "https://localhost:8080/"
        },
        "id": "flrBehphzbWT",
        "outputId": "e97fd23c-6a66-4fc1-f373-2a1e1882845c"
      },
      "source": [
        "f1_score(y_true, y_pred, average='macro')"
      ],
      "execution_count": null,
      "outputs": [
        {
          "output_type": "execute_result",
          "data": {
            "text/plain": [
              "0.26666666666666666"
            ]
          },
          "metadata": {
            "tags": []
          },
          "execution_count": 19
        }
      ]
    },
    {
      "cell_type": "code",
      "metadata": {
        "colab": {
          "base_uri": "https://localhost:8080/"
        },
        "id": "LrwI64jSzilN",
        "outputId": "ceafc14a-3546-4cb6-ff34-b76f94424cff"
      },
      "source": [
        "f1_score(y_true, y_pred, average='weighted')"
      ],
      "execution_count": null,
      "outputs": [
        {
          "output_type": "execute_result",
          "data": {
            "text/plain": [
              "0.26666666666666666"
            ]
          },
          "metadata": {
            "tags": []
          },
          "execution_count": 21
        }
      ]
    },
    {
      "cell_type": "code",
      "metadata": {
        "colab": {
          "base_uri": "https://localhost:8080/"
        },
        "id": "9ZXnVfzhzkKc",
        "outputId": "5e1e3a51-fb2a-43a8-87f1-b95e0afbbfff"
      },
      "source": [
        "f1_score(y_true, y_pred, average=None)"
      ],
      "execution_count": null,
      "outputs": [
        {
          "output_type": "execute_result",
          "data": {
            "text/plain": [
              "array([0.8, 0. , 0. ])"
            ]
          },
          "metadata": {
            "tags": []
          },
          "execution_count": 22
        }
      ]
    },
    {
      "cell_type": "code",
      "metadata": {
        "colab": {
          "base_uri": "https://localhost:8080/",
          "height": 290
        },
        "id": "swWHfX-XzuIR",
        "outputId": "713ccfcc-654c-4ab8-a401-9d1ef6efb4d9"
      },
      "source": [
        "cm = confusion_matrix(y_true, y_pred)\r\n",
        "disp = sklearn.metrics.ConfusionMatrixDisplay(confusion_matrix=cm, display_labels=[None, ])\r\n",
        "disp.plot()"
      ],
      "execution_count": null,
      "outputs": [
        {
          "output_type": "execute_result",
          "data": {
            "text/plain": [
              "<sklearn.metrics._plot.confusion_matrix.ConfusionMatrixDisplay at 0x7f0cc7c631d0>"
            ]
          },
          "metadata": {
            "tags": []
          },
          "execution_count": 28
        },
        {
          "output_type": "display_data",
          "data": {
            "image/png": "[encoded data removed]",
            "text/plain": [
              "<Figure size 432x288 with 2 Axes>"
            ]
          },
          "metadata": {
            "tags": [],
            "needs_background": "light"
          }
        }
      ]
    },
    {
      "cell_type": "code",
      "metadata": {
        "id": "8Wkt0U-w3Tu4"
      },
      "source": [
        "import seaborn as sns"
      ],
      "execution_count": null,
      "outputs": []
    },
    {
      "cell_type": "code",
      "metadata": {
        "colab": {
          "base_uri": "https://localhost:8080/",
          "height": 286
        },
        "id": "x1eUVgoM4RH6",
        "outputId": "41f1f587-01d2-4709-ab96-b2d2c814b778"
      },
      "source": [
        "sns.heatmap(cm)"
      ],
      "execution_count": null,
      "outputs": [
        {
          "output_type": "execute_result",
          "data": {
            "text/plain": [
              "<matplotlib.axes._subplots.AxesSubplot at 0x7f0cc72321d0>"
            ]
          },
          "metadata": {
            "tags": []
          },
          "execution_count": 30
        },
        {
          "output_type": "display_data",
          "data": {
            "image/png": "[encoded data removed]",
            "text/plain": [
              "<Figure size 432x288 with 2 Axes>"
            ]
          },
          "metadata": {
            "tags": [],
            "needs_background": "light"
          }
        }
      ]
    },
    {
      "cell_type": "code",
      "metadata": {
        "colab": {
          "base_uri": "https://localhost:8080/"
        },
        "id": "_UvLzpFz4Ui_",
        "outputId": "d2139381-d87d-40ce-f472-f4ed4a218c37"
      },
      "source": [
        "from sklearn.metrics import log_loss \r\n",
        "\r\n",
        "## log_loss = -y * log (p) + (1 - y ) * log (1 - p) ; P => Probabilities of all classes \r\n",
        "\r\n",
        "log_loss(['spam', 'ham', 'ham', 'spam'], [[.1, .9], [.9, .1], [.8, .2], [.35, .65]])"
      ],
      "execution_count": null,
      "outputs": [
        {
          "output_type": "execute_result",
          "data": {
            "text/plain": [
              "0.21616187468057912"
            ]
          },
          "metadata": {
            "tags": []
          },
          "execution_count": 32
        }
      ]
    },
    {
      "cell_type": "code",
      "metadata": {
        "colab": {
          "base_uri": "https://localhost:8080/"
        },
        "id": "VVukNozf5SV-",
        "outputId": "767b7498-c7ba-48b5-ac6d-bfd5ba60dcc5"
      },
      "source": [
        "## R2 Score \r\n",
        "\r\n",
        "## R2 = 1 - (RSS / TSS ) ; RSS = Residual Sum scores (Residual Error Model) , TSS = Total Sum of Squares (Mean Model)\r\n",
        "\r\n",
        "## ==> If Residus are 0 then it is perfect model. \r\n",
        "\r\n",
        "from sklearn.metrics import r2_score\r\n",
        "\r\n",
        "y_true = [3, -0.5, 2, 7]\r\n",
        "y_pred = [2.5, 0.0, 2, 8]\r\n",
        "\r\n",
        "r2_score(y_true, y_pred, )"
      ],
      "execution_count": null,
      "outputs": [
        {
          "output_type": "execute_result",
          "data": {
            "text/plain": [
              "0.9486081370449679"
            ]
          },
          "metadata": {
            "tags": []
          },
          "execution_count": 33
        }
      ]
    },
    {
      "cell_type": "code",
      "metadata": {
        "colab": {
          "base_uri": "https://localhost:8080/"
        },
        "id": "C7Uz7DsFDK6Z",
        "outputId": "ab78924f-96f9-4a38-d52c-e73dea158a0a"
      },
      "source": [
        "r2_score(y_true, y_pred, multioutput='variance_weighted')"
      ],
      "execution_count": null,
      "outputs": [
        {
          "output_type": "execute_result",
          "data": {
            "text/plain": [
              "0.9486081370449678"
            ]
          },
          "metadata": {
            "tags": []
          },
          "execution_count": 35
        }
      ]
    },
    {
      "cell_type": "code",
      "metadata": {
        "id": "LEhvSkpQDN3D"
      },
      "source": [
        "import numpy as np\r\n",
        "from sklearn import metrics \r\n",
        "\r\n",
        "y = np.array([1, 1, 2, 2])\r\n",
        "scores = np.array([0.1, 0.4, 0.35, 0.8])\r\n",
        "\r\n",
        "fpr, tpr, thresholds = metrics.roc_curve(y, scores, pos_label=2)\r\n",
        "\r\n"
      ],
      "execution_count": null,
      "outputs": []
    },
    {
      "cell_type": "code",
      "metadata": {
        "colab": {
          "base_uri": "https://localhost:8080/"
        },
        "id": "M23rezEwEMzp",
        "outputId": "d2a85e57-3ab2-4cc8-bf43-d7a25b2cd50a"
      },
      "source": [
        "fpr, tpr, thresholds"
      ],
      "execution_count": null,
      "outputs": [
        {
          "output_type": "execute_result",
          "data": {
            "text/plain": [
              "(array([0. , 0. , 0.5, 0.5, 1. ]),\n",
              " array([0. , 0.5, 0.5, 1. , 1. ]),\n",
              " array([1.8 , 0.8 , 0.4 , 0.35, 0.1 ]))"
            ]
          },
          "metadata": {
            "tags": []
          },
          "execution_count": 39
        }
      ]
    },
    {
      "cell_type": "code",
      "metadata": {
        "colab": {
          "base_uri": "https://localhost:8080/"
        },
        "id": "-zZUQAssJtho",
        "outputId": "b3fee4b2-eac2-4c9a-dd35-f01e82bb4a3c"
      },
      "source": [
        "### ROC AUC Curve \r\n",
        "\r\n",
        "from sklearn.datasets import load_breast_cancer\r\n",
        "from sklearn.linear_model import LogisticRegression\r\n",
        "\r\n",
        "from sklearn.metrics import roc_auc_score\r\n",
        "\r\n",
        "X, y = load_breast_cancer(return_X_y=True)\r\n",
        "clf = LogisticRegression(solver='liblinear', random_state=0).fit(X, y)\r\n",
        "\r\n",
        "roc_auc_score(y, clf.predict_proba(X)[:, 1])"
      ],
      "execution_count": null,
      "outputs": [
        {
          "output_type": "execute_result",
          "data": {
            "text/plain": [
              "0.994767718408118"
            ]
          },
          "metadata": {
            "tags": []
          },
          "execution_count": 43
        }
      ]
    },
    {
      "cell_type": "code",
      "metadata": {
        "colab": {
          "base_uri": "https://localhost:8080/"
        },
        "id": "4kagl56CKg1w",
        "outputId": "d1deba07-0e42-49f3-d1aa-0f4d002f495a"
      },
      "source": [
        "## auc \r\n",
        "\r\n",
        "import numpy as np\r\n",
        "from sklearn import metrics \r\n",
        "y = np.array([1, 1, 2, 2])\r\n",
        " \r\n",
        "pred = np.array([0.1, 0.4, 0.35, 0.8])\r\n",
        "\r\n",
        "fpr, tpr, threshold = metrics.roc_curve(y, y_pred, pos_label=2)\r\n",
        "metrics.auc(fpr, tpr)"
      ],
      "execution_count": null,
      "outputs": [
        {
          "output_type": "execute_result",
          "data": {
            "text/plain": [
              "0.75"
            ]
          },
          "metadata": {
            "tags": []
          },
          "execution_count": 50
        }
      ]
    },
    {
      "cell_type": "code",
      "metadata": {
        "colab": {
          "base_uri": "https://localhost:8080/"
        },
        "id": "uyruEyWBM0fx",
        "outputId": "0877ab21-5734-4ef1-f783-6868043811b2"
      },
      "source": [
        "threshold"
      ],
      "execution_count": null,
      "outputs": [
        {
          "output_type": "execute_result",
          "data": {
            "text/plain": [
              "array([9. , 8. , 2.5, 2. , 0. ])"
            ]
          },
          "metadata": {
            "tags": []
          },
          "execution_count": 53
        }
      ]
    },
    {
      "cell_type": "code",
      "metadata": {
        "colab": {
          "base_uri": "https://localhost:8080/"
        },
        "id": "n40hK0GFNLSY",
        "outputId": "5eec11cb-d8b1-4a91-c6fe-b352ffce9c87"
      },
      "source": [
        "fpr, tpr"
      ],
      "execution_count": null,
      "outputs": [
        {
          "output_type": "execute_result",
          "data": {
            "text/plain": [
              "(array([0. , 0. , 0.5, 0.5, 1. ]), array([0. , 0.5, 0.5, 1. , 1. ]))"
            ]
          },
          "metadata": {
            "tags": []
          },
          "execution_count": 54
        }
      ]
    },
    {
      "cell_type": "code",
      "metadata": {
        "colab": {
          "base_uri": "https://localhost:8080/"
        },
        "id": "9UCxHBiaVhC-",
        "outputId": "106a5a43-dde3-4779-bd42-2ca52873c131"
      },
      "source": [
        "## Mean Absolute Error \r\n",
        "\r\n",
        "from sklearn.metrics import median_absolute_error, mean_absolute_error\r\n",
        "\r\n",
        "y_true = [3, -0.5, 2, 7, 9]\r\n",
        "y_pred = [2.5, 0.0, 1.5, 8, 11]\r\n",
        "\r\n",
        "mean_absolute_error(y_true, y_pred), median_absolute_error(y_true, y_pred)"
      ],
      "execution_count": null,
      "outputs": [
        {
          "output_type": "execute_result",
          "data": {
            "text/plain": [
              "(0.9, 0.5)"
            ]
          },
          "metadata": {
            "tags": []
          },
          "execution_count": 55
        }
      ]
    },
    {
      "cell_type": "code",
      "metadata": {
        "colab": {
          "base_uri": "https://localhost:8080/"
        },
        "id": "pRig2sV2WNgE",
        "outputId": "911b6d4f-ccde-483d-b7ee-bf4bc58126b3"
      },
      "source": [
        "from sklearn.metrics import mean_squared_error\r\n",
        "\r\n",
        "mean_squared_error(y_true, y_pred)"
      ],
      "execution_count": null,
      "outputs": [
        {
          "output_type": "execute_result",
          "data": {
            "text/plain": [
              "1.15"
            ]
          },
          "metadata": {
            "tags": []
          },
          "execution_count": 56
        }
      ]
    },
    {
      "cell_type": "code",
      "metadata": {
        "colab": {
          "base_uri": "https://localhost:8080/"
        },
        "id": "7IVzr65JWXeG",
        "outputId": "a8838c88-6904-49d6-b43d-8c934faed87b"
      },
      "source": [
        "## MAD - Median Absolute Deviation is robust to errors . R2 Can go for a toss when SS (res) has outliers \r\n",
        "\r\n",
        "import pandas as pd\r\n",
        "import numpy as np\r\n",
        "\r\n",
        "varList = [5, 12, 1, 0, 4, 22, 15, 3, 9, 150]\r\n",
        "\r\n",
        "series = pd.Series(varList)\r\n",
        "\r\n",
        "mean_ad = series.mad()\r\n",
        "\r\n",
        "def median_ad(x):\r\n",
        "  median = np.median(x)\r\n",
        "  x = abs(x - median)\r\n",
        "  MAD = np.median(X)\r\n",
        "  return MAD\r\n",
        "\r\n",
        "median_abs_deviation = median_ad(series)\r\n",
        "\r\n",
        "mean_ad, median_abs_deviation"
      ],
      "execution_count": null,
      "outputs": [
        {
          "output_type": "execute_result",
          "data": {
            "text/plain": [
              "(25.58, 0.1811)"
            ]
          },
          "metadata": {
            "tags": []
          },
          "execution_count": 57
        }
      ]
    },
    {
      "cell_type": "code",
      "metadata": {
        "id": "9AJFCClSaPLF"
      },
      "source": [
        " ## Plotting ROC Curve Example \r\n",
        "\r\n",
        " import matplotlib.pyplot as plt\r\n",
        " from sklearn import datasets, metrics, model_selection, svm "
      ],
      "execution_count": 1,
      "outputs": []
    },
    {
      "cell_type": "code",
      "metadata": {
        "colab": {
          "base_uri": "https://localhost:8080/"
        },
        "id": "OpXOpe-Zh1j1",
        "outputId": "538037b8-c400-436e-e9d3-de8f6f9ffad2"
      },
      "source": [
        "X, y = datasets.make_classification(random_state=0)\r\n",
        "\r\n",
        "X_train, X_test, y_train, y_test = model_selection.train_test_split(X, y, random_state=0)\r\n",
        "\r\n",
        "clf = svm.SVC(random_state=0)\r\n",
        "clf.fit(X_train, y_train)\r\n",
        "\r\n"
      ],
      "execution_count": 2,
      "outputs": [
        {
          "output_type": "execute_result",
          "data": {
            "text/plain": [
              "SVC(C=1.0, break_ties=False, cache_size=200, class_weight=None, coef0=0.0,\n",
              "    decision_function_shape='ovr', degree=3, gamma='scale', kernel='rbf',\n",
              "    max_iter=-1, probability=False, random_state=0, shrinking=True, tol=0.001,\n",
              "    verbose=False)"
            ]
          },
          "metadata": {
            "tags": []
          },
          "execution_count": 2
        }
      ]
    },
    {
      "cell_type": "code",
      "metadata": {
        "colab": {
          "base_uri": "https://localhost:8080/",
          "height": 279
        },
        "id": "ZogvPJ69ifc-",
        "outputId": "e2dfca4d-f53f-47e2-894b-9ab35fc6f30c"
      },
      "source": [
        "metrics.plot_roc_curve(clf, X_test, y_test)\r\n",
        "plt.show()"
      ],
      "execution_count": 3,
      "outputs": [
        {
          "output_type": "display_data",
          "data": {
            "image/png": "[encoded data removed]",
            "text/plain": [
              "<Figure size 432x288 with 1 Axes>"
            ]
          },
          "metadata": {
            "tags": [],
            "needs_background": "light"
          }
        }
      ]
    },
    {
      "cell_type": "code",
      "metadata": {
        "id": "lSV1TXPyipaq"
      },
      "source": [
        ""
      ],
      "execution_count": null,
      "outputs": []
    }
  ]
}