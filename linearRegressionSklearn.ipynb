{
  "nbformat": 4,
  "nbformat_minor": 0,
  "metadata": {
    "colab": {
      "name": "linearRegressionSklearn.ipynb",
      "provenance": [],
      "authorship_tag": "ABX9TyOE0Ewrg6TajLqGLMDOabcK",
      "include_colab_link": true
    },
    "kernelspec": {
      "name": "python3",
      "display_name": "Python 3"
    }
  },
  "cells": [
    {
      "cell_type": "markdown",
      "metadata": {
        "id": "view-in-github",
        "colab_type": "text"
      },
      "source": [
        "<a href=\"https://colab.research.google.com/github/yashwanth-kokkanti/machinelearning_practise/blob/master/linearRegressionSklearn.ipynb\" target=\"_parent\"><img src=\"https://colab.research.google.com/assets/colab-badge.svg\" alt=\"Open In Colab\"/></a>"
      ]
    },
    {
      "cell_type": "code",
      "metadata": {
        "id": "WYmo5F2t99AO"
      },
      "source": [
        "## This is sklearn practise notebook.\n",
        "\n",
        "## Imports \n",
        "\n",
        "import matplotlib.pyplot as plt\n",
        "import numpy as np\n",
        "from sklearn import datasets, linear_model\n",
        "from sklearn.metrics import mean_squared_error, r2_score"
      ],
      "execution_count": 1,
      "outputs": []
    },
    {
      "cell_type": "code",
      "metadata": {
        "colab": {
          "base_uri": "https://localhost:8080/"
        },
        "id": "MjWV-SSG-7hI",
        "outputId": "3832f6a2-4376-4197-fb42-0e8693ec2ce3"
      },
      "source": [
        "## Load dataset\n",
        "\n",
        "x, y  = datasets.load_diabetes(return_X_y=True)\n",
        "\n",
        "print (x)"
      ],
      "execution_count": 2,
      "outputs": [
        {
          "output_type": "stream",
          "text": [
            "[[ 0.03807591  0.05068012  0.06169621 ... -0.00259226  0.01990842\n",
            "  -0.01764613]\n",
            " [-0.00188202 -0.04464164 -0.05147406 ... -0.03949338 -0.06832974\n",
            "  -0.09220405]\n",
            " [ 0.08529891  0.05068012  0.04445121 ... -0.00259226  0.00286377\n",
            "  -0.02593034]\n",
            " ...\n",
            " [ 0.04170844  0.05068012 -0.01590626 ... -0.01107952 -0.04687948\n",
            "   0.01549073]\n",
            " [-0.04547248 -0.04464164  0.03906215 ...  0.02655962  0.04452837\n",
            "  -0.02593034]\n",
            " [-0.04547248 -0.04464164 -0.0730303  ... -0.03949338 -0.00421986\n",
            "   0.00306441]]\n"
          ],
          "name": "stdout"
        }
      ]
    },
    {
      "cell_type": "code",
      "metadata": {
        "id": "Le7rDdh9_6Sc"
      },
      "source": [
        "#use only one feature \n",
        "X  = x[:, np.newaxis, 2]\n",
        "\n",
        "## Split the data into traind and test \n",
        "\n",
        "X_train = X[:-20]\n",
        "X_test = X[-20:]\n",
        "\n",
        "y_train = y[:-20]\n",
        "y_test = y[-20:]\n"
      ],
      "execution_count": 5,
      "outputs": []
    },
    {
      "cell_type": "code",
      "metadata": {
        "id": "gDm1F9KsA98o"
      },
      "source": [
        "\n",
        "#Model \n",
        "regr = linear_model.LinearRegression()\n",
        "\n",
        "# Fit Model \n",
        "regr.fit(X_train, y_train)\n",
        "\n",
        "## Predict model \n",
        "y_pred  = regr.predict(X_test)\n",
        "\n"
      ],
      "execution_count": 7,
      "outputs": []
    },
    {
      "cell_type": "code",
      "metadata": {
        "colab": {
          "base_uri": "https://localhost:8080/"
        },
        "id": "fleNch8LBZg7",
        "outputId": "885a948e-3005-44cf-85f0-1122dab4596c"
      },
      "source": [
        "## print Coefficients \n",
        "\n",
        "print (\"Coefficients : \", regr.coef_)\n",
        "\n",
        "## Mean squared Error \n",
        "\n",
        "print (\"Mean Squared Error : \", mean_squared_error(y_test, y_pred))\n",
        "\n",
        "## Co-efficient of determination \n",
        "\n",
        "print (\"Co-efficient of Determination \", r2_score(y_test, y_pred))\n",
        "\n",
        "\n"
      ],
      "execution_count": 8,
      "outputs": [
        {
          "output_type": "stream",
          "text": [
            "Coefficients :  [938.23786125]\n",
            "Mean Squared Error :  2548.0723987259694\n",
            "Co-efficient of Determination  0.47257544798227147\n"
          ],
          "name": "stdout"
        }
      ]
    },
    {
      "cell_type": "code",
      "metadata": {
        "colab": {
          "base_uri": "https://localhost:8080/",
          "height": 265
        },
        "id": "1tqeZ7sXCJPj",
        "outputId": "1db9f944-b785-4082-c35c-e95b8a60920b"
      },
      "source": [
        "## PLot outputs \n",
        "\n",
        "plt.scatter(X_test, y_test, color='black')\n",
        "\n",
        "plt.plot(X_test, y_pred, color='blue', linewidth=3)\n",
        "\n",
        "plt.xticks()\n",
        "plt.yticks()\n",
        "\n",
        "plt.show()"
      ],
      "execution_count": 9,
      "outputs": [
        {
          "output_type": "display_data",
          "data": {
            "image/png": "[encoded data removed]",
            "text/plain": [
              "<Figure size 432x288 with 1 Axes>"
            ]
          },
          "metadata": {
            "tags": [],
            "needs_background": "light"
          }
        }
      ]
    },
    {
      "cell_type": "code",
      "metadata": {
        "id": "1YSkjzO5ClsE"
      },
      "source": [
        ""
      ],
      "execution_count": null,
      "outputs": []
    }
  ]
}