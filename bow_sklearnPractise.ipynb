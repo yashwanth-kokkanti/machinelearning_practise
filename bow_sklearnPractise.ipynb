{
  "nbformat": 4,
  "nbformat_minor": 0,
  "metadata": {
    "colab": {
      "name": "bow_sklearnPractise.ipynb",
      "provenance": [],
      "authorship_tag": "ABX9TyP0NZ7y6wnJ/sEwbNUXHPZV",
      "include_colab_link": true
    },
    "kernelspec": {
      "name": "python3",
      "display_name": "Python 3"
    }
  },
  "cells": [
    {
      "cell_type": "markdown",
      "metadata": {
        "id": "view-in-github",
        "colab_type": "text"
      },
      "source": [
        "<a href=\"https://colab.research.google.com/github/yashwanth-kokkanti/machinelearning_practise/blob/master/bow_sklearnPractise.ipynb\" target=\"_parent\"><img src=\"https://colab.research.google.com/assets/colab-badge.svg\" alt=\"Open In Colab\"/></a>"
      ]
    },
    {
      "cell_type": "code",
      "metadata": {
        "id": "JvAVbDrR4glq"
      },
      "source": [
        "# This Notebook demonstrates skelearn Countvectorizer "
      ],
      "execution_count": 1,
      "outputs": []
    },
    {
      "cell_type": "code",
      "metadata": {
        "id": "pQ3VsQaUBu9Y"
      },
      "source": [
        "categories = ['alt.atheism', 'soc.religion.christian', 'comp.graphics', 'sci.med']\r\n",
        "\r\n",
        "from sklearn.datasets import fetch_20newsgroups\r\n",
        "twenty_train = fetch_20newsgroups(subset='train',categories=categories, shuffle=True, random_state=42)"
      ],
      "execution_count": 2,
      "outputs": []
    },
    {
      "cell_type": "code",
      "metadata": {
        "colab": {
          "base_uri": "https://localhost:8080/"
        },
        "id": "9lDoeLa1B2Ip",
        "outputId": "286003c2-01ac-4443-b9cb-ad92d991d471"
      },
      "source": [
        "twenty_train.target_names"
      ],
      "execution_count": 3,
      "outputs": [
        {
          "output_type": "execute_result",
          "data": {
            "text/plain": [
              "['alt.atheism', 'comp.graphics', 'sci.med', 'soc.religion.christian']"
            ]
          },
          "metadata": {
            "tags": []
          },
          "execution_count": 3
        }
      ]
    },
    {
      "cell_type": "code",
      "metadata": {
        "colab": {
          "base_uri": "https://localhost:8080/"
        },
        "id": "7Wn6IN3cB6cl",
        "outputId": "0de5d2cd-79ce-4988-98b8-1b61ea9e38fa"
      },
      "source": [
        "len(twenty_train.filenames)"
      ],
      "execution_count": 4,
      "outputs": [
        {
          "output_type": "execute_result",
          "data": {
            "text/plain": [
              "2257"
            ]
          },
          "metadata": {
            "tags": []
          },
          "execution_count": 4
        }
      ]
    },
    {
      "cell_type": "code",
      "metadata": {
        "id": "A2y3SdXeCKHy"
      },
      "source": [
        "##twenty_train"
      ],
      "execution_count": 5,
      "outputs": []
    },
    {
      "cell_type": "code",
      "metadata": {
        "colab": {
          "base_uri": "https://localhost:8080/"
        },
        "id": "kkxeqdbUCOZu",
        "outputId": "c1cb0f40-705b-479f-b331-85d8593c5a74"
      },
      "source": [
        "## There is huge text data here . Lets see what is the first target \r\n",
        "\r\n",
        "print(twenty_train.target_names[twenty_train.target[0]])"
      ],
      "execution_count": 6,
      "outputs": [
        {
          "output_type": "stream",
          "text": [
            "comp.graphics\n"
          ],
          "name": "stdout"
        }
      ]
    },
    {
      "cell_type": "code",
      "metadata": {
        "colab": {
          "base_uri": "https://localhost:8080/"
        },
        "id": "ssZHOBILCiKm",
        "outputId": "7fe14d0d-32be-4dcd-9416-26655205a717"
      },
      "source": [
        "## Example of Bag of Words using Countvectorizer.\r\n",
        "\r\n",
        "from sklearn.feature_extraction.text import CountVectorizer\r\n",
        "\r\n",
        "count_vect = CountVectorizer()\r\n",
        "\r\n",
        "x_train_counts = count_vect.fit_transform(twenty_train.data)\r\n",
        "\r\n",
        "x_train_counts.shape"
      ],
      "execution_count": 7,
      "outputs": [
        {
          "output_type": "execute_result",
          "data": {
            "text/plain": [
              "(2257, 35788)"
            ]
          },
          "metadata": {
            "tags": []
          },
          "execution_count": 7
        }
      ]
    },
    {
      "cell_type": "code",
      "metadata": {
        "colab": {
          "base_uri": "https://localhost:8080/"
        },
        "id": "M2EleQv2DjkI",
        "outputId": "eed7fc57-8d7b-4f12-925d-3f94a5297249"
      },
      "source": [
        "## Example of Tf\r\n",
        "\r\n",
        "from sklearn.feature_extraction.text import TfidfTransformer\r\n",
        "\r\n",
        "tf_transformer = TfidfTransformer(use_idf=False).fit(x_train_counts)\r\n",
        "x_train_tf = tf_transformer.transform(x_train_counts)\r\n",
        "\r\n",
        "x_train_tf.shape\r\n"
      ],
      "execution_count": 8,
      "outputs": [
        {
          "output_type": "execute_result",
          "data": {
            "text/plain": [
              "(2257, 35788)"
            ]
          },
          "metadata": {
            "tags": []
          },
          "execution_count": 8
        }
      ]
    },
    {
      "cell_type": "code",
      "metadata": {
        "colab": {
          "base_uri": "https://localhost:8080/"
        },
        "id": "CrIEfqCKElfa",
        "outputId": "29c1a88d-eeda-419a-c27c-2b0c1320f72f"
      },
      "source": [
        "## Example of Tf-idf \r\n",
        "\r\n",
        "tfidf_transformer = TfidfTransformer()\r\n",
        "x_train_tfidf = tfidf_transformer.fit_transform(x_train_counts)\r\n",
        "\r\n",
        "x_train_tfidf.shape\r\n"
      ],
      "execution_count": 9,
      "outputs": [
        {
          "output_type": "execute_result",
          "data": {
            "text/plain": [
              "(2257, 35788)"
            ]
          },
          "metadata": {
            "tags": []
          },
          "execution_count": 9
        }
      ]
    },
    {
      "cell_type": "code",
      "metadata": {
        "id": "AkYrDLWtDx7x"
      },
      "source": [
        "## Train a Classifier using Naive Bayes Theorem\r\n",
        "\r\n",
        "from sklearn.naive_bayes import MultinomialNB\r\n",
        "\r\n",
        "clf = MultinomialNB().fit(x_train_tfidf, twenty_train.target)"
      ],
      "execution_count": 10,
      "outputs": []
    },
    {
      "cell_type": "code",
      "metadata": {
        "id": "Dp0nXSlKE5_o"
      },
      "source": [
        "docs_new = ['God is love', 'OpenGL on the GPU is fast', 'my name is Yashwanth', 'Good Morning']\r\n",
        "\r\n",
        "x_new_counts = count_vect.transform(docs_new)\r\n",
        "x_new_tfidf = tfidf_transformer.transform(x_new_counts)\r\n",
        "\r\n",
        "predicted = clf.predict(x_new_tfidf)\r\n",
        "\r\n"
      ],
      "execution_count": 11,
      "outputs": []
    },
    {
      "cell_type": "code",
      "metadata": {
        "colab": {
          "base_uri": "https://localhost:8080/"
        },
        "id": "7YJayBnRFeYF",
        "outputId": "300e85e8-ccc0-40f3-93c9-2fe7525ae6ca"
      },
      "source": [
        "predicted"
      ],
      "execution_count": 12,
      "outputs": [
        {
          "output_type": "execute_result",
          "data": {
            "text/plain": [
              "array([3, 1, 3, 3])"
            ]
          },
          "metadata": {
            "tags": []
          },
          "execution_count": 12
        }
      ]
    },
    {
      "cell_type": "code",
      "metadata": {
        "colab": {
          "base_uri": "https://localhost:8080/"
        },
        "id": "yHI_9Ry5FhkE",
        "outputId": "36bc91c5-63d9-45a9-b688-79e010aaa9a4"
      },
      "source": [
        "for doc, category in zip (docs_new, predicted):\r\n",
        "  print ('%r => %s' % (doc, twenty_train.target_names[category]))"
      ],
      "execution_count": 13,
      "outputs": [
        {
          "output_type": "stream",
          "text": [
            "'God is love' => soc.religion.christian\n",
            "'OpenGL on the GPU is fast' => comp.graphics\n",
            "'my name is Yashwanth' => soc.religion.christian\n",
            "'Good Morning' => soc.religion.christian\n"
          ],
          "name": "stdout"
        }
      ]
    },
    {
      "cell_type": "code",
      "metadata": {
        "colab": {
          "base_uri": "https://localhost:8080/"
        },
        "id": "NJ5MAuv2FshQ",
        "outputId": "2bda689d-6a15-4d51-bdf3-a248bc64c8c0"
      },
      "source": [
        "## Building a pipeline and Evaluating perrformance \r\n",
        "\r\n",
        "from sklearn.pipeline import Pipeline\r\n",
        "import numpy as np \r\n",
        "\r\n",
        "text_clf = Pipeline([\r\n",
        "      ('vect', CountVectorizer()),\r\n",
        "      ('tfidf', TfidfTransformer()),\r\n",
        "      ('clf', MultinomialNB()),\r\n",
        "          ])\r\n",
        "\r\n",
        "text_clf.fit(twenty_train.data, twenty_train.target)\r\n",
        "\r\n",
        "twenty_test = fetch_20newsgroups(subset='test', categories=categories, shuffle=True, random_state=42)\r\n",
        "\r\n",
        "docs_test = twenty_test.data\r\n",
        "\r\n",
        "predicted = text_clf.predict(docs_test)\r\n",
        "\r\n",
        "np.mean(predicted == twenty_test.target)"
      ],
      "execution_count": 14,
      "outputs": [
        {
          "output_type": "execute_result",
          "data": {
            "text/plain": [
              "0.8348868175765646"
            ]
          },
          "metadata": {
            "tags": []
          },
          "execution_count": 14
        }
      ]
    },
    {
      "cell_type": "code",
      "metadata": {
        "id": "88NLwdvKGgMY"
      },
      "source": [
        "## With Multinomial NB we achieved 83 % accuracy . "
      ],
      "execution_count": 15,
      "outputs": []
    },
    {
      "cell_type": "code",
      "metadata": {
        "colab": {
          "base_uri": "https://localhost:8080/"
        },
        "id": "LJKSRdhrHIU2",
        "outputId": "a6ba8639-9eab-43d4-e968-aee81f5b6932"
      },
      "source": [
        "## Lets see with SVM . \r\n",
        "\r\n",
        "\r\n",
        "from sklearn.linear_model import SGDClassifier\r\n",
        "\r\n",
        "text_clf = Pipeline([\r\n",
        "              ('vect', CountVectorizer()),\r\n",
        "              ('tfidf', TfidfTransformer()),\r\n",
        "              ('clf', SGDClassifier(loss='hinge', penalty='l2',alpha=1e-3, random_state=42,max_iter=5, tol=None)),\r\n",
        "                  ])\r\n",
        "\r\n",
        "text_clf.fit(twenty_train.data, twenty_train.target)\r\n",
        "\r\n",
        "predicted = text_clf.predict(docs_test)\r\n",
        "\r\n",
        "np.mean(predicted == twenty_test.target)"
      ],
      "execution_count": 16,
      "outputs": [
        {
          "output_type": "execute_result",
          "data": {
            "text/plain": [
              "0.9101198402130493"
            ]
          },
          "metadata": {
            "tags": []
          },
          "execution_count": 16
        }
      ]
    },
    {
      "cell_type": "code",
      "metadata": {
        "id": "y35rLXIwHcSN"
      },
      "source": [
        "## With SVM Around 91 %"
      ],
      "execution_count": 17,
      "outputs": []
    },
    {
      "cell_type": "code",
      "metadata": {
        "colab": {
          "base_uri": "https://localhost:8080/"
        },
        "id": "jM85Wx3gHhJB",
        "outputId": "63f1ee52-2b7b-4cc6-d7e4-ac9a83dbf6ab"
      },
      "source": [
        "from sklearn.linear_model import LogisticRegression\r\n",
        "\r\n",
        "text_clf = Pipeline([\r\n",
        "              ('vect', CountVectorizer()),\r\n",
        "              ('tfidf', TfidfTransformer()),\r\n",
        "              ('clf', LogisticRegression(penalty='l2', random_state=42)),\r\n",
        "                  ])\r\n",
        "\r\n",
        "text_clf.fit(twenty_train.data, twenty_train.target)\r\n",
        "\r\n",
        "predicted = text_clf.predict(docs_test)\r\n",
        "\r\n",
        "np.mean(predicted == twenty_test.target)"
      ],
      "execution_count": 18,
      "outputs": [
        {
          "output_type": "execute_result",
          "data": {
            "text/plain": [
              "0.8974700399467377"
            ]
          },
          "metadata": {
            "tags": []
          },
          "execution_count": 18
        }
      ]
    },
    {
      "cell_type": "code",
      "metadata": {
        "id": "q8EIWhJhHuYa"
      },
      "source": [
        "## With Logistic Regression it is 89.7 % Which is slightly equal to SVM . "
      ],
      "execution_count": 19,
      "outputs": []
    },
    {
      "cell_type": "code",
      "metadata": {
        "colab": {
          "base_uri": "https://localhost:8080/"
        },
        "id": "XAWAHxSBH25k",
        "outputId": "d6a5433a-902e-4b6d-fbf7-4176cc105964"
      },
      "source": [
        "from sklearn.tree import DecisionTreeClassifier\r\n",
        "\r\n",
        "text_clf = Pipeline([\r\n",
        "              ('vect', CountVectorizer()),\r\n",
        "              ('tfidf', TfidfTransformer()),\r\n",
        "              ('clf', DecisionTreeClassifier(random_state=42)),\r\n",
        "                  ])\r\n",
        "\r\n",
        "text_clf.fit(twenty_train.data, twenty_train.target)\r\n",
        "\r\n",
        "predicted = text_clf.predict(docs_test)\r\n",
        "\r\n",
        "np.mean(predicted == twenty_test.target)"
      ],
      "execution_count": 20,
      "outputs": [
        {
          "output_type": "execute_result",
          "data": {
            "text/plain": [
              "0.7210386151797603"
            ]
          },
          "metadata": {
            "tags": []
          },
          "execution_count": 20
        }
      ]
    },
    {
      "cell_type": "code",
      "metadata": {
        "id": "W34zXBNNIBbk"
      },
      "source": [
        "## This says that Decission Trees are poor in TestClassification . "
      ],
      "execution_count": 21,
      "outputs": []
    },
    {
      "cell_type": "code",
      "metadata": {
        "colab": {
          "base_uri": "https://localhost:8080/"
        },
        "id": "DDXEOVNIPXgY",
        "outputId": "0d1f5892-a43c-4dcd-9f08-5085631b22c5"
      },
      "source": [
        "from sklearn import metrics \r\n",
        "\r\n",
        "print(metrics.classification_report(twenty_test.target, predicted, target_names=twenty_test.target_names))"
      ],
      "execution_count": 22,
      "outputs": [
        {
          "output_type": "stream",
          "text": [
            "                        precision    recall  f1-score   support\n",
            "\n",
            "           alt.atheism       0.66      0.65      0.66       319\n",
            "         comp.graphics       0.72      0.80      0.76       389\n",
            "               sci.med       0.68      0.59      0.63       396\n",
            "soc.religion.christian       0.81      0.83      0.82       398\n",
            "\n",
            "              accuracy                           0.72      1502\n",
            "             macro avg       0.72      0.72      0.72      1502\n",
            "          weighted avg       0.72      0.72      0.72      1502\n",
            "\n"
          ],
          "name": "stdout"
        }
      ]
    },
    {
      "cell_type": "code",
      "metadata": {
        "colab": {
          "base_uri": "https://localhost:8080/"
        },
        "id": "uHaV5NLjPik_",
        "outputId": "e679f3f1-8cb2-4ba0-d5a8-8fd9e500956a"
      },
      "source": [
        "metrics.confusion_matrix(twenty_test.target, predicted)"
      ],
      "execution_count": 23,
      "outputs": [
        {
          "output_type": "execute_result",
          "data": {
            "text/plain": [
              "array([[206,  22,  46,  45],\n",
              "       [ 21, 311,  47,  10],\n",
              "       [ 58,  78, 235,  25],\n",
              "       [ 25,  22,  20, 331]])"
            ]
          },
          "metadata": {
            "tags": []
          },
          "execution_count": 23
        }
      ]
    },
    {
      "cell_type": "code",
      "metadata": {
        "id": "c9_NjlIFPrpw"
      },
      "source": [
        ""
      ],
      "execution_count": 23,
      "outputs": []
    }
  ]
}