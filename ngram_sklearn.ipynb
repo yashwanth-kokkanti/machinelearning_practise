{
  "nbformat": 4,
  "nbformat_minor": 0,
  "metadata": {
    "colab": {
      "name": "ngram_sklearn.ipynb",
      "provenance": [],
      "authorship_tag": "ABX9TyP9KnpQLKzpgkpI+SirGmE3",
      "include_colab_link": true
    },
    "kernelspec": {
      "name": "python3",
      "display_name": "Python 3"
    }
  },
  "cells": [
    {
      "cell_type": "markdown",
      "metadata": {
        "id": "view-in-github",
        "colab_type": "text"
      },
      "source": [
        "<a href=\"https://colab.research.google.com/github/yashwanth-kokkanti/machinelearning_practise/blob/master/ngram_sklearn.ipynb\" target=\"_parent\"><img src=\"https://colab.research.google.com/assets/colab-badge.svg\" alt=\"Open In Colab\"/></a>"
      ]
    },
    {
      "cell_type": "code",
      "metadata": {
        "colab": {
          "base_uri": "https://localhost:8080/"
        },
        "id": "ip23Im0oUXTU",
        "outputId": "2700a9d1-4c9d-43fe-a26b-5187b2030a4b"
      },
      "source": [
        "import sklearn.feature_extraction.text\r\n",
        "\r\n",
        "ngram_size = 10\r\n",
        "\r\n",
        "string = [\"Hello This is an Interesting topic selection checking the n-gram sequence\"]\r\n",
        "\r\n",
        "vect = sklearn.feature_extraction.text.CountVectorizer(ngram_range=(1,ngram_size))\r\n",
        "\r\n",
        "vect.fit(string)\r\n",
        "\r\n",
        "for i in vect.get_feature_names():\r\n",
        "  print (i)"
      ],
      "execution_count": 4,
      "outputs": [
        {
          "output_type": "stream",
          "text": [
            "an\n",
            "an interesting\n",
            "an interesting topic\n",
            "an interesting topic selection\n",
            "an interesting topic selection checking\n",
            "an interesting topic selection checking the\n",
            "an interesting topic selection checking the gram\n",
            "an interesting topic selection checking the gram sequence\n",
            "checking\n",
            "checking the\n",
            "checking the gram\n",
            "checking the gram sequence\n",
            "gram\n",
            "gram sequence\n",
            "hello\n",
            "hello this\n",
            "hello this is\n",
            "hello this is an\n",
            "hello this is an interesting\n",
            "hello this is an interesting topic\n",
            "hello this is an interesting topic selection\n",
            "hello this is an interesting topic selection checking\n",
            "hello this is an interesting topic selection checking the\n",
            "hello this is an interesting topic selection checking the gram\n",
            "interesting\n",
            "interesting topic\n",
            "interesting topic selection\n",
            "interesting topic selection checking\n",
            "interesting topic selection checking the\n",
            "interesting topic selection checking the gram\n",
            "interesting topic selection checking the gram sequence\n",
            "is\n",
            "is an\n",
            "is an interesting\n",
            "is an interesting topic\n",
            "is an interesting topic selection\n",
            "is an interesting topic selection checking\n",
            "is an interesting topic selection checking the\n",
            "is an interesting topic selection checking the gram\n",
            "is an interesting topic selection checking the gram sequence\n",
            "selection\n",
            "selection checking\n",
            "selection checking the\n",
            "selection checking the gram\n",
            "selection checking the gram sequence\n",
            "sequence\n",
            "the\n",
            "the gram\n",
            "the gram sequence\n",
            "this\n",
            "this is\n",
            "this is an\n",
            "this is an interesting\n",
            "this is an interesting topic\n",
            "this is an interesting topic selection\n",
            "this is an interesting topic selection checking\n",
            "this is an interesting topic selection checking the\n",
            "this is an interesting topic selection checking the gram\n",
            "this is an interesting topic selection checking the gram sequence\n",
            "topic\n",
            "topic selection\n",
            "topic selection checking\n",
            "topic selection checking the\n",
            "topic selection checking the gram\n",
            "topic selection checking the gram sequence\n"
          ],
          "name": "stdout"
        }
      ]
    },
    {
      "cell_type": "code",
      "metadata": {
        "id": "cbM2AajAUhrk"
      },
      "source": [
        ""
      ],
      "execution_count": null,
      "outputs": []
    }
  ]
}