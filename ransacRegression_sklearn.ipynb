{
  "nbformat": 4,
  "nbformat_minor": 0,
  "metadata": {
    "colab": {
      "name": "ransacRegression_sklearn.ipynb",
      "provenance": [],
      "authorship_tag": "ABX9TyNnaOLr/L4YbaztsEEdzQS/",
      "include_colab_link": true
    },
    "kernelspec": {
      "name": "python3",
      "display_name": "Python 3"
    }
  },
  "cells": [
    {
      "cell_type": "markdown",
      "metadata": {
        "id": "view-in-github",
        "colab_type": "text"
      },
      "source": [
        "<a href=\"https://colab.research.google.com/github/yashwanth-kokkanti/machinelearning_practise/blob/master/ransacRegression_sklearn.ipynb\" target=\"_parent\"><img src=\"https://colab.research.google.com/assets/colab-badge.svg\" alt=\"Open In Colab\"/></a>"
      ]
    },
    {
      "cell_type": "code",
      "metadata": {
        "id": "B-2EYa3sd_8Z"
      },
      "source": [
        "## This example demonstrates Ransac Regression. \r\n",
        "## Ransac => Random sample consensus works by selecting few samples randimly and eliminates outliers. \r\n",
        "## This model is robust to outliers. "
      ],
      "execution_count": 1,
      "outputs": []
    },
    {
      "cell_type": "code",
      "metadata": {
        "id": "QZ5AiogGe-Pl"
      },
      "source": [
        "import numpy as np\r\n",
        "from matplotlib import pyplot as plt\r\n",
        "from sklearn import linear_model, datasets\r\n"
      ],
      "execution_count": 2,
      "outputs": []
    },
    {
      "cell_type": "code",
      "metadata": {
        "id": "brc51aJlfIKo"
      },
      "source": [
        "n_samples = 25000\r\n",
        "n_outliers = 2000 ## 8% of data is outliers. \r\n",
        "\r\n",
        "\r\n",
        "## GEnerate Data \r\n",
        "X, y, coef = datasets.make_regression(n_samples=n_samples, n_features=1, n_informative=1, noise=10, coef=True, random_state=0)\r\n",
        "\r\n"
      ],
      "execution_count": 3,
      "outputs": []
    },
    {
      "cell_type": "code",
      "metadata": {
        "id": "rDIdHL5eghw5"
      },
      "source": [
        "## Add Outlier data \r\n",
        "\r\n",
        "np.random.seed(0)\r\n",
        "X[:n_outliers] = 5 + 0.57 * np.random.normal(size=(n_outliers, 1))\r\n",
        "y[:n_outliers] = -3 + 10 * np.random.normal(size=n_outliers)\r\n"
      ],
      "execution_count": 4,
      "outputs": []
    },
    {
      "cell_type": "code",
      "metadata": {
        "colab": {
          "base_uri": "https://localhost:8080/"
        },
        "id": "2ZKVyni3g7D9",
        "outputId": "a0b32e2d-a3d3-4880-906f-8fece26d3e51"
      },
      "source": [
        "X[:n_outliers]"
      ],
      "execution_count": 6,
      "outputs": [
        {
          "output_type": "execute_result",
          "data": {
            "text/plain": [
              "array([[6.00550984],\n",
              "       [5.22808961],\n",
              "       [5.55788065],\n",
              "       ...,\n",
              "       [5.09030729],\n",
              "       [4.34911619],\n",
              "       [4.25274689]])"
            ]
          },
          "metadata": {
            "tags": []
          },
          "execution_count": 6
        }
      ]
    },
    {
      "cell_type": "code",
      "metadata": {
        "colab": {
          "base_uri": "https://localhost:8080/"
        },
        "id": "o7b3KZPjg-V0",
        "outputId": "b86def7c-d62a-4fe7-d599-08b173e13851"
      },
      "source": [
        "# Fit line using all data\r\n",
        "lr = linear_model.LinearRegression()\r\n",
        "lr.fit(X, y)"
      ],
      "execution_count": 7,
      "outputs": [
        {
          "output_type": "execute_result",
          "data": {
            "text/plain": [
              "LinearRegression(copy_X=True, fit_intercept=True, n_jobs=None, normalize=False)"
            ]
          },
          "metadata": {
            "tags": []
          },
          "execution_count": 7
        }
      ]
    },
    {
      "cell_type": "code",
      "metadata": {
        "id": "DVd_iqqRhGfE"
      },
      "source": [
        "# Linear Model with Ransac Algorithm\r\n",
        "ransac = linear_model.RANSACRegressor()\r\n",
        "ransac.fit(X, y)\r\n",
        "inlier_mask = ransac.inlier_mask_ ## Boolean mask of inliers classified as True.\r\n",
        "outlier_mask = np.logical_not(inlier_mask)"
      ],
      "execution_count": 9,
      "outputs": []
    },
    {
      "cell_type": "code",
      "metadata": {
        "id": "A7inYChZhu1J"
      },
      "source": [
        "# Predict data of estimated models\r\n",
        "line_X = np.arange(X.min(), X.max())[:, np.newaxis]    \r\n",
        "\r\n",
        "line_y = lr.predict(line_X) ## LInear Regression \r\n",
        "line_y_ransac = ransac.predict(line_X) ## Ridge Regression "
      ],
      "execution_count": 10,
      "outputs": []
    },
    {
      "cell_type": "code",
      "metadata": {
        "colab": {
          "base_uri": "https://localhost:8080/"
        },
        "id": "ZLuqB-Vsid9B",
        "outputId": "5cae07dd-8428-4711-e5dc-2cb70f00a538"
      },
      "source": [
        "# Compare estimated coefficients\r\n",
        "print(\"Estimated coefficients (true, linear regression, RANSAC):\")\r\n",
        "print(coef, lr.coef_, ransac.estimator_.coef_)\r\n"
      ],
      "execution_count": 11,
      "outputs": [
        {
          "output_type": "stream",
          "text": [
            "Estimated coefficients (true, linear regression, RANSAC):\n",
            "15.587247276136718 [4.64319539] [15.83303268]\n"
          ],
          "name": "stdout"
        }
      ]
    },
    {
      "cell_type": "code",
      "metadata": {
        "colab": {
          "base_uri": "https://localhost:8080/",
          "height": 279
        },
        "id": "O9E3Yuhjihax",
        "outputId": "40449978-e693-4708-876a-8d2542a630c6"
      },
      "source": [
        "## PLot all the Models \r\n",
        "\r\n",
        "lw = 2\r\n",
        "plt.scatter(X[inlier_mask], y[inlier_mask], color='yellowgreen', marker='.', label='Inliers')\r\n",
        "\r\n",
        "plt.scatter(X[outlier_mask], y[outlier_mask], color='gold', marker='.', label='Outliers')\r\n",
        "\r\n",
        "plt.plot(line_X, line_y, color='navy', linewidth=lw, label='Linear regressor')\r\n",
        "\r\n",
        "plt.plot(line_X, line_y_ransac, color='cornflowerblue', linewidth=lw,label='RANSAC regressor')\r\n",
        "\r\n",
        "plt.legend(loc='lower right')\r\n",
        "plt.xlabel(\"Input\")\r\n",
        "plt.ylabel(\"Response\")\r\n",
        "plt.show()"
      ],
      "execution_count": 12,
      "outputs": [
        {
          "output_type": "display_data",
          "data": {
            "image/png": "[encoded data removed]",
            "text/plain": [
              "<Figure size 432x288 with 1 Axes>"
            ]
          },
          "metadata": {
            "tags": [],
            "needs_background": "light"
          }
        }
      ]
    },
    {
      "cell_type": "code",
      "metadata": {
        "id": "VnfVwyati3E7"
      },
      "source": [
        ""
      ],
      "execution_count": null,
      "outputs": []
    }
  ]
}